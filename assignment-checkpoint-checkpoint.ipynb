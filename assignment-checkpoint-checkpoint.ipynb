{
 "cells": [
  {
   "cell_type": "markdown",
   "metadata": {},
   "source": [
    "###### 1) A company decided to give bonus of 5% to employee if his/her year of service is more than 5 years. Ask user for their salary and year of service and print the net bonus amount.\n"
   ]
  },
  {
   "cell_type": "code",
   "execution_count": 11,
   "metadata": {},
   "outputs": [
    {
     "name": "stdout",
     "output_type": "stream",
     "text": [
      "Enter your Salary:- 500\n",
      "Enter your service duration:- 6\n",
      "Congratulations!; You are eligible for Bonus\n",
      "Your gaining bonus is 25.0 and Your net bonus with salary is 525.0Rs.\n"
     ]
    }
   ],
   "source": [
    "Salary = int(input(\"Enter your Salary:- \"))\n",
    "service = int(input(\"Enter your service duration:- \"))\n",
    "service_required = 5\n",
    "Bonus = Salary*0.05\n",
    "\n",
    "if service >= service_required:\n",
    "    print(\"Congratulations!; You are eligible for Bonus\")\n",
    "    print(f\"Your gaining bonus is {Bonus} and Your net bonus with salary is {Bonus + Salary}Rs.\")\n",
    "else:\n",
    "    print(\"Sorry!; You are not eligible for Bonus\")"
   ]
  },
  {
   "cell_type": "markdown",
   "metadata": {},
   "source": [
    "###### 2) Write a program to check whether a person is eligible for voting or not. (accept age from user) if age is greater than 17 eligible otherwise not eligible"
   ]
  },
  {
   "cell_type": "code",
   "execution_count": 2,
   "metadata": {},
   "outputs": [
    {
     "name": "stdout",
     "output_type": "stream",
     "text": [
      "Enter your Name:- Asad\n",
      "Enter your Age:- 18\n",
      "You are eligble for voting.\n"
     ]
    }
   ],
   "source": [
    "Name = (input(\"Enter your Name:- \"))\n",
    "Age = int(input(\"Enter your Age:- \"))\n",
    "Age_Required = 17\n",
    "\n",
    "if Age >= Age_Required:\n",
    "    print(\"You are eligble for voting.\")\n",
    "else:\n",
    "    print(\"You are not eligible for voting\")"
   ]
  },
  {
   "cell_type": "markdown",
   "metadata": {},
   "source": [
    "###### 3) Write a program to check whether a number entered by user is even or odd.\n"
   ]
  },
  {
   "cell_type": "code",
   "execution_count": 17,
   "metadata": {},
   "outputs": [
    {
     "name": "stdout",
     "output_type": "stream",
     "text": [
      "Enter the Number:- 15\n",
      "Number is Odd\n"
     ]
    }
   ],
   "source": [
    "number = int(input(\"Enter the Number:- \"))\n",
    "number % 2 == 0\n",
    "\n",
    "if number % 2 ==0:\n",
    "    print(\"Number is Even\")\n",
    "else:\n",
    "    print(\"Number is Odd\")"
   ]
  },
  {
   "cell_type": "markdown",
   "metadata": {},
   "source": [
    "###### 4) Write a program to check whether a number is divisible by 7 or not. Show Answer"
   ]
  },
  {
   "cell_type": "code",
   "execution_count": 28,
   "metadata": {},
   "outputs": [
    {
     "name": "stdout",
     "output_type": "stream",
     "text": [
      "Enter the Number:- 5\n",
      "This number is not divisible by 7\n"
     ]
    }
   ],
   "source": [
    "number = int(input(\"Enter the Number:- \"))\n",
    "number % 7 == 0\n",
    "\n",
    "if number % 7 == 0:\n",
    "    print(\"This number is divisible by 7\")\n",
    "else:\n",
    "    print(\"This number is not divisible by 7\")"
   ]
  },
  {
   "cell_type": "markdown",
   "metadata": {},
   "source": [
    "###### 5) Write a program to display \"Hello\" if a number entered by user is a multiple of five , otherwise print \"Bye\".\n"
   ]
  },
  {
   "cell_type": "code",
   "execution_count": 22,
   "metadata": {},
   "outputs": [
    {
     "name": "stdout",
     "output_type": "stream",
     "text": [
      "Enter the number:- 3\n",
      "Bye\n"
     ]
    }
   ],
   "source": [
    "number = int(input(\"Enter the number:- \"))\n",
    "number % 5 == 0\n",
    "\n",
    "if number % 5 == 0:\n",
    "    print(\"Hello\")\n",
    "else:\n",
    "    print(\"Bye\")"
   ]
  },
  {
   "cell_type": "markdown",
   "metadata": {},
   "source": [
    "###### 6) Write a program to display the last digit of a number"
   ]
  },
  {
   "cell_type": "code",
   "execution_count": 9,
   "metadata": {},
   "outputs": [
    {
     "name": "stdout",
     "output_type": "stream",
     "text": [
      "Enter a number:- 014235\n",
      "The last digit of a number you enter is 5\n"
     ]
    }
   ],
   "source": [
    "number = int(input(\"Enter a number:- \"))\n",
    "last_digit = number % 10\n",
    "print(f\"The last digit of a number you enter is {last_digit}\")"
   ]
  },
  {
   "cell_type": "markdown",
   "metadata": {},
   "source": [
    "###### 7) Write a program to check whether the last digit of a number( entered by user ) is divisible by 3 or not.\n"
   ]
  },
  {
   "cell_type": "code",
   "execution_count": 8,
   "metadata": {},
   "outputs": [
    {
     "name": "stdout",
     "output_type": "stream",
     "text": [
      "Enter a Number:- 021443\n",
      "The last digit of a number 3 is divisible by 3\n"
     ]
    }
   ],
   "source": [
    "number = int(input(\"Enter a Number:- \"))\n",
    "last_digit = number % 10\n",
    "if last_digit % 3 == 0:\n",
    "    print(f\"The last digit of a number {last_digit} is divisible by 3\")\n",
    "else:\n",
    "    print(f\"The last digit of a number {last_digit} is not divisible by 3\")"
   ]
  },
  {
   "cell_type": "markdown",
   "metadata": {},
   "source": [
    "###### 8) Take values of length and breadth of a rectangle from user and print if it is square or rectangle"
   ]
  },
  {
   "cell_type": "code",
   "execution_count": 59,
   "metadata": {},
   "outputs": [
    {
     "name": "stdout",
     "output_type": "stream",
     "text": [
      "Enter the length:- 25\n",
      "Enter the breadth:- 24\n",
      "It is rectangle.\n"
     ]
    }
   ],
   "source": [
    "length = int(input(\"Enter the length:- \"))\n",
    "breadth = int(input(\"Enter the breadth:- \"))\n",
    "\n",
    "if length == breadth:\n",
    "    print(\"It is square.\")\n",
    "else:\n",
    "    print(\"It is rectangle.\")"
   ]
  },
  {
   "cell_type": "markdown",
   "metadata": {},
   "source": [
    "###### 9) Take two int values from user and print greatest among them.\n"
   ]
  },
  {
   "cell_type": "code",
   "execution_count": 6,
   "metadata": {},
   "outputs": [
    {
     "name": "stdout",
     "output_type": "stream",
     "text": [
      "Enter your first value:- 7\n",
      "Enter your second value:- 8\n",
      "The greatest value among them is 8\n"
     ]
    }
   ],
   "source": [
    "num_1 = int(input(\"Enter your first value:- \"))\n",
    "num_2 = int(input(\"Enter your second value:- \"))\n",
    "\n",
    "if num_1 > num_2:\n",
    "    print(f\"The greatest number among them is {num_1}\")\n",
    "elif num_2 > num_1:\n",
    "    print(f\"The greatest value among them is {num_2}\")\n",
    "else:\n",
    "    print(\"Both values are same\")"
   ]
  },
  {
   "cell_type": "markdown",
   "metadata": {},
   "source": [
    "###### 10) A shop will give discount of 10% if the cost of purchased quantity is more than 1000. Ask user for quantity Suppose, one unit will cost 100. Judge and print total cost for user."
   ]
  },
  {
   "cell_type": "code",
   "execution_count": null,
   "metadata": {},
   "outputs": [],
   "source": [
    "unit = int(input(\"Enter the purchase quantity:- \"))\n",
    "cost_per_unit = 100\n",
    "total_cost = unit * cost_per_unit\n",
    "discount = 0.10 * total_cost\n",
    "if total_cost > 1000:\n",
    "    total_cost -=discount\n",
    "    print(\"Congrats! You get a 10% discount\")\n",
    "    print(f\"Total cost of your quantity after get discounted is: ${total_cost}\")\n",
    "else:\n",
    "    print(\"Sorry! your don't get a discount\")\n",
    "    "
   ]
  },
  {
   "cell_type": "markdown",
   "metadata": {},
   "source": [
    "###### 11) A school has following rules for grading system:                                                      a. Below 25 - F                                                                                                                                   b. 25 to 45 - E                                                                                                                                    c. 45 to 50 - D                                                                                                                                     d. 50 to 60 - C                                                                                                                                     e. 60 to 80 - B                                                                                                                                     f. Above 80 - A.                                                                                                                              Ask user to enter marks and print the corresponding grade."
   ]
  },
  {
   "cell_type": "code",
   "execution_count": 2,
   "metadata": {},
   "outputs": [
    {
     "name": "stdout",
     "output_type": "stream",
     "text": [
      "Please Enter your marks:- 85\n",
      "Your grade is A\n"
     ]
    }
   ],
   "source": [
    "marks = int(input(\"Please Enter your marks:- \"))\n",
    "if marks<25:\n",
    "  print (\"Your grade is F\")\n",
    "elif marks>=25 and marks<45:\n",
    "  print (\"Your grade is E\")\n",
    "elif marks>=45 and marks<50:\n",
    "  print (\"Your grade is D\")\n",
    "elif marks>=50 and marks<60:\n",
    "  print (\"Your grade is C\")\n",
    "elif marks>=60 and marks<80:\n",
    "  print (\"Your grade is B\")\n",
    "else:\n",
    "  print (\"Your grade is A\")"
   ]
  },
  {
   "cell_type": "markdown",
   "metadata": {},
   "source": [
    "###### 12)A student will not be allowed to sit in exam if his/her attendence is less than 75%. Take following input from user  Number of classes held  Number of classes attended. And print percentage of class attended Is student is allowed to sit in exam or not."
   ]
  },
  {
   "cell_type": "code",
   "execution_count": 2,
   "metadata": {},
   "outputs": [
    {
     "name": "stdout",
     "output_type": "stream",
     "text": [
      "Enter number of classes held:- 88\n",
      "Enter number of classes attended:- 78\n",
      "You are allowed to sit in the exam because your class attandence percentage is met with the attandence criteria of exams.\n",
      "Your attandence of class is 88.63636363636364%\n"
     ]
    }
   ],
   "source": [
    "class_held = int(input(\"Enter number of classes held:- \"))\n",
    "class_attended = int(input(\"Enter number of classes attended:- \"))\n",
    "percentage_of_attandence = (class_attended / class_held) * 100\n",
    "if percentage_of_attandence >= 75:\n",
    "    print(\"You are allowed to sit in the exam because your class attandence percentage is met with the attandence criteria of exams.\")\n",
    "    print(f\"Your attandence of class is {percentage_of_attandence}%\")\n",
    "else:\n",
    "    print(\"You are not allowed to sit in the exam because your class attandence is less than 75%\")\n",
    "    print(f\"Your attandence of class is {percentage_of_attandence}%\")   "
   ]
  },
  {
   "cell_type": "markdown",
   "metadata": {},
   "source": [
    "###### 13) Modify the above question to allow student to sit if he/she has medical cause. Ask user if he/she has medical cause or not ( 'Y' or 'N' ) and print accordingly.\n"
   ]
  },
  {
   "cell_type": "code",
   "execution_count": null,
   "metadata": {},
   "outputs": [],
   "source": [
    "class_held = int(input(\"Enter number of classes held:- \"))\n",
    "class_attended = int(input(\"Enter number of classes attended:- \"))\n",
    "medical_cause = input(\"Enter if you have any medical cause (Y or N):- \")\n",
    "percentage_of_attandence = (class_attended / class_held) * 100\n",
    "if percentage_of_attandence >= 75 and medical_cause == 'N':\n",
    "    print(\"You are allowed to sit in the exam because your class attandence percentage is met with the attandence criteria of exams.\")\n",
    "    print(f\"Your attandence of class is {percentage_of_attandence}%\")\n",
    "elif medical_cause == 'Y':\n",
    "    print(\"You are not allowed to sit in the exam because you have medical causes.\")\n",
    "else:\n",
    "    print(\"You are not allowed to sit in the exam because your class attandence is less than 75%\")\n",
    "    print(f\"Your attandence of class is {percentage_of_attandence}%\")   "
   ]
  },
  {
   "cell_type": "markdown",
   "metadata": {},
   "source": [
    "###### 14) Write a program to check if a year is leap year or not. If a year is divisible by 4 then it is leap year but if the year is century year like 2000, 1900, 2100 then it must be divisible by 400.\n"
   ]
  },
  {
   "cell_type": "code",
   "execution_count": 3,
   "metadata": {},
   "outputs": [
    {
     "name": "stdout",
     "output_type": "stream",
     "text": [
      "Enter a year:- 2023\n",
      "2023 is not a leap year\n"
     ]
    }
   ],
   "source": [
    "year = int(input(\"Enter a year:- \"))\n",
    "if (year % 4 == 0 and year % 100 != 0) or (year % 400 == 0):\n",
    "    print(f\"{year} is a leap year\")\n",
    "else:\n",
    "    print(f\"{year} is not a leap year\")"
   ]
  },
  {
   "cell_type": "markdown",
   "metadata": {},
   "source": [
    "###### 15) Ask user to enter age, gender ( M or F ), marital status ( Y or N ) and then using following rules print their place of service. if employee is female, then she will work only in urban areas. if employee is a male and age is in between 20 to 40 then he may work in anywhere. if employee is male and age is in between 40 t0 60 then he will work in urban areas only. And any other input of age should print \"ERROR\"\n"
   ]
  },
  {
   "cell_type": "code",
   "execution_count": 11,
   "metadata": {},
   "outputs": [
    {
     "name": "stdout",
     "output_type": "stream",
     "text": [
      "Enter your Age:- 45\n",
      "Enter your Gender (M or F):- M\n",
      "Are you married? (Y or N):- Y\n",
      "You will work only in urban areas.\n"
     ]
    }
   ],
   "source": [
    "age = int(input(\"Enter your Age:- \"))\n",
    "gender = input(\"Enter your Gender (M or F):- \") .upper ()\n",
    "marital_status = input(\"Are you married? (Y or N):- \")\n",
    "if gender == 'F':\n",
    "    print(\"You will work only in urban areas.\")\n",
    "elif gender == 'M' and 20 <= age <= 40:\n",
    "    print(\"You will work Anywhere.\")\n",
    "elif gender == 'M' and 40 <= age <= 60:\n",
    "    print(\"You will work only in urban areas.\")\n",
    "else:\n",
    "    print(\"ERROR\")"
   ]
  },
  {
   "cell_type": "markdown",
   "metadata": {},
   "source": [
    "###### 16) Write a program to calculate the electricity bill (accept number of unit from user) according to the following criteria : Unit Price uptp 100 units no charge Next 200 units Rs 5 per unit After 200 units Rs 10 per unit (For example if input unit is 350 than total bill amount is Rs.3500 (For example if input unit is 97 than total bill amount is Rs.0 (For example if input unit is 150 than total bill amount is Rs.750\n"
   ]
  },
  {
   "cell_type": "markdown",
   "metadata": {},
   "source": [
    "###### 17) Take input of age of 3 people by user and determine oldest and youngest among them.\n",
    "\n"
   ]
  },
  {
   "cell_type": "code",
   "execution_count": 12,
   "metadata": {},
   "outputs": [
    {
     "name": "stdout",
     "output_type": "stream",
     "text": [
      "Enter the age of person 1:- 35\n",
      "Enter the age of person 2:- 45\n",
      "Enter the age of person 3:- 34\n",
      "45 years old is the oldest person among them.\n",
      "34 years old is the youngest person among them.\n"
     ]
    }
   ],
   "source": [
    "age1 = int(input(\"Enter the age of person 1:- \"))\n",
    "age2 = int(input(\"Enter the age of person 2:- \"))\n",
    "age3 = int(input(\"Enter the age of person 3:- \"))\n",
    "oldest = max(age1, age2, age3)\n",
    "youngest = min(age1 ,age2 ,age3)\n",
    "print(f\"{oldest} years old is the oldest person among them.\")\n",
    "print(f\"{youngest} years old is the youngest person among them.\")\n",
    "    "
   ]
  },
  {
   "cell_type": "code",
   "execution_count": null,
   "metadata": {},
   "outputs": [],
   "source": []
  }
 ],
 "metadata": {
  "kernelspec": {
   "display_name": "Python 3 (ipykernel)",
   "language": "python",
   "name": "python3"
  },
  "language_info": {
   "codemirror_mode": {
    "name": "ipython",
    "version": 3
   },
   "file_extension": ".py",
   "mimetype": "text/x-python",
   "name": "python",
   "nbconvert_exporter": "python",
   "pygments_lexer": "ipython3",
   "version": "3.11.5"
  }
 },
 "nbformat": 4,
 "nbformat_minor": 2
}
